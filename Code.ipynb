{
 "cells": [
  {
   "cell_type": "code",
   "execution_count": 15,
   "metadata": {},
   "outputs": [],
   "source": [
    "# Parameters\n",
    "\n",
    "lensR = 0.025 # The radius of the required lens in SI units\n",
    "distH = 1 # The distance between the required lens and the light source in\n",
    "          # SI units, which equals the distance between the required lens\n",
    "          # and the photomultiplier \n",
    "numPiece = 100000 # The number of pieces that half of the required lens is\n",
    "                  # divided into\n",
    "pieceLen = lensR/numPiece # The length of each \"piece\" of the required lens\n",
    "                          # in SI units\n",
    "refIndex = 1.33 # The refractive index of the material that the required lens\n",
    "                # is made from\n",
    "speed = 3*(10**8) # The speed of light in SI units"
   ]
  },
  {
   "cell_type": "code",
   "execution_count": 16,
   "metadata": {},
   "outputs": [],
   "source": [
    "# The function that calculates the times for various paths that a photon\n",
    "# may take to travel from the light source to the photomultiplier\n",
    "\n",
    "def createTimes(numPiece, pieceLen, distH, lensR, speed):\n",
    "    timesList = []\n",
    "    for i in range(numPiece+1):\n",
    "        time = (2*math.sqrt((lensR-i*pieceLen)**2+distH**2))/speed\n",
    "        timesList.append(time)\n",
    "    return timesList"
   ]
  },
  {
   "cell_type": "code",
   "execution_count": 17,
   "metadata": {},
   "outputs": [],
   "source": [
    "# The function that calculates the halfwidth of the required lens at various\n",
    "# points on its upper half\n",
    "\n",
    "def createHalfWidths(timesListCopy, numPiece, refIndex, speed):\n",
    "    halfWidthsList = []\n",
    "    for i in range(numPiece+1):\n",
    "        halfWidth = (timesList[0]-timesList[i])*(speed/refIndex)\n",
    "        halfWidthsList.append(halfWidth)\n",
    "    return halfWidthsList"
   ]
  },
  {
   "cell_type": "code",
   "execution_count": 18,
   "metadata": {},
   "outputs": [
    {
     "data": {
      "image/png": "[encoded data removed]",
      "text/plain": [
       "<matplotlib.figure.Figure at 0x4a79138ba8>"
      ]
     },
     "metadata": {},
     "output_type": "display_data"
    }
   ],
   "source": [
    "# Code that sketches the shape of the required lens\n",
    "\n",
    "import math\n",
    "import pylab\n",
    "timesList = createTimes(numPiece, pieceLen, distH, lensR, speed)\n",
    "timesListCopy = []\n",
    "for i in range(numPiece+1):\n",
    "    timesListCopy.append(timesList[i])\n",
    "halfWidthsList = createHalfWidths(timesListCopy, numPiece, refIndex, speed)\n",
    "halfWidthsCopy = []\n",
    "for i in range(numPiece+1):\n",
    "    halfWidthsCopy.append(halfWidthsList[i])\n",
    "halfWidthsCopy.reverse()\n",
    "halfWidths = halfWidthsList[0:numPiece]+halfWidthsCopy\n",
    "halfWidthsNeg = []\n",
    "for i in range(2*numPiece+1):\n",
    "    halfWidthsNeg.append(-1*halfWidths[i])\n",
    "length = []\n",
    "for i in range(2*numPiece+1):\n",
    "    length.append(i*pieceLen)\n",
    "pylab.figure(\"Width/Length\")\n",
    "pylab.title(\"Width/Length\")\n",
    "pylab.plot(length, halfWidths)\n",
    "pylab.plot(length, halfWidthsNeg)\n",
    "pylab.xlabel(\"Length/m\")\n",
    "pylab.ylabel(\"Width/m\")\n",
    "pylab.ylim(-(halfWidthsList[numPiece])*5, (halfWidthsList[numPiece])*5)\n",
    "pylab.show()"
   ]
  }
 ],
 "metadata": {
  "kernelspec": {
   "display_name": "Python 3",
   "language": "python",
   "name": "python3"
  },
  "language_info": {
   "codemirror_mode": {
    "name": "ipython",
    "version": 3
   },
   "file_extension": ".py",
   "mimetype": "text/x-python",
   "name": "python",
   "nbconvert_exporter": "python",
   "pygments_lexer": "ipython3",
   "version": "3.6.4"
  }
 },
 "nbformat": 4,
 "nbformat_minor": 2
}
